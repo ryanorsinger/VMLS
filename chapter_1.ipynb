{
 "cells": [
  {
   "cell_type": "code",
   "execution_count": 21,
   "metadata": {},
   "outputs": [],
   "source": [
    "import numpy as np"
   ]
  },
  {
   "cell_type": "markdown",
   "metadata": {},
   "source": [
    "# Vectors\n",
    "- A Vector is an ordered finite list of numbers\n",
    "- Elements of a vector can be called entries, coefficients, or components \n",
    "- The size (called the dimension or length) is the number of elements the vector contains.\n",
    "- A vector of size $n$ is called an n-vector\n",
    "- A 1-vector is considered to be the same as the number itself"
   ]
  },
  {
   "cell_type": "code",
   "execution_count": 23,
   "metadata": {},
   "outputs": [
    {
     "data": {
      "text/plain": [
       "3"
      ]
     },
     "execution_count": 23,
     "metadata": {},
     "output_type": "execute_result"
    }
   ],
   "source": [
    "# A vector of size n is called an n-vector\n",
    "# x is a 3-vector\n",
    "x = np.array([1, 2, 3])\n",
    "x.size"
   ]
  },
  {
   "cell_type": "markdown",
   "metadata": {},
   "source": [
    "### Built-in Python vs. numpy tools\n",
    "- `len` is built into Python (for iterables) returns the size of the 1st dimension.\n",
    "- The `.size` property from numpy arrays works the same way, only on 1 dimensional vectors\n",
    "- We'll use `.size` since it's accurate"
   ]
  },
  {
   "cell_type": "code",
   "execution_count": 19,
   "metadata": {},
   "outputs": [
    {
     "data": {
      "text/plain": [
       "True"
      ]
     },
     "execution_count": 19,
     "metadata": {},
     "output_type": "execute_result"
    }
   ],
   "source": [
    "x = np.array([1, 2, 3])\n",
    "len(x) == x.size"
   ]
  },
  {
   "cell_type": "markdown",
   "metadata": {},
   "source": [
    "- The numpy `.size` propery is a mathematically accurate \n",
    "- Numpy's `.size` property == the *the total number of elements in the vector.*\n",
    "- For this reason, use `.size` from here on out :)"
   ]
  },
  {
   "cell_type": "code",
   "execution_count": 20,
   "metadata": {},
   "outputs": [
    {
     "name": "stdout",
     "output_type": "stream",
     "text": [
      "len(y) is 3\n",
      "y.size is 9\n"
     ]
    },
    {
     "data": {
      "text/plain": [
       "array([[1, 2, 3],\n",
       "       [1, 2, 3],\n",
       "       [1, 2, 3]])"
      ]
     },
     "execution_count": 20,
     "metadata": {},
     "output_type": "execute_result"
    }
   ],
   "source": [
    "# For vectors with more than 1 dimension, .size is mathematically accurate\n",
    "y = np.array([x, x, x])\n",
    "print(\"len(y) is\", len(y))\n",
    "print(\"y.size is\", y.size)\n",
    "y"
   ]
  },
  {
   "cell_type": "code",
   "execution_count": null,
   "metadata": {},
   "outputs": [],
   "source": []
  },
  {
   "cell_type": "code",
   "execution_count": 24,
   "metadata": {},
   "outputs": [],
   "source": [
    "# A 1-vector is considered to be the same as the number itself\n",
    "assert [1.3] != 1.3, \"Python built-in lists are not proper vectors\"\n",
    "assert np.array(1.3) == 1.3, \"A numpy array of a single number is the same as that number\""
   ]
  },
  {
   "cell_type": "markdown",
   "metadata": {},
   "source": [
    "> Two vectors are equal if they have the same size and the entries are the same\n"
   ]
  },
  {
   "cell_type": "code",
   "execution_count": 5,
   "metadata": {},
   "outputs": [
    {
     "data": {
      "text/plain": [
       "True"
      ]
     },
     "execution_count": 5,
     "metadata": {},
     "output_type": "execute_result"
    }
   ],
   "source": [
    "a = np.array([1, 2, 3])\n",
    "b = np.array([1, 2, 3])\n",
    "\n",
    "# array_equal returns True/False if the arrays are completely equal\n",
    "np.array_equal(a, b)"
   ]
  },
  {
   "cell_type": "markdown",
   "metadata": {},
   "source": [
    "- `np.equal` and Python's `==` operator work similarly\n",
    "- They return an array of booleans..\n",
    "- But this is not the same as a single boolean\n",
    "- Favor `np.array_equal` to get a single boolean answer for comparing vectors"
   ]
  },
  {
   "cell_type": "code",
   "execution_count": 6,
   "metadata": {},
   "outputs": [
    {
     "data": {
      "text/plain": [
       "array([False,  True, False])"
      ]
     },
     "execution_count": 6,
     "metadata": {},
     "output_type": "execute_result"
    }
   ],
   "source": [
    "# np.equal and the python == operator work similarly\n",
    "# they compare each element\n",
    "# But they're not\n",
    "np.equal(np.array([2, 1, 0]), np.array([5, 1, 2]))"
   ]
  },
  {
   "cell_type": "code",
   "execution_count": 7,
   "metadata": {},
   "outputs": [
    {
     "data": {
      "text/plain": [
       "array([1, 2, 3, 1, 2, 3])"
      ]
     },
     "execution_count": 7,
     "metadata": {},
     "output_type": "execute_result"
    }
   ],
   "source": [
    "# Create clock or stacked vectors with np.concatenate\n",
    "# https://numpy.org/doc/stable/reference/generated/numpy.concatenate.html?highlight=concatenate#numpy.concatenate\n",
    "c = np.concatenate((a, b))\n",
    "\n",
    "assert c.size == a.size + b.size\n",
    "c"
   ]
  }
 ],
 "metadata": {
  "kernelspec": {
   "display_name": "Python 3",
   "language": "python",
   "name": "python3"
  },
  "language_info": {
   "codemirror_mode": {
    "name": "ipython",
    "version": 3
   },
   "file_extension": ".py",
   "mimetype": "text/x-python",
   "name": "python",
   "nbconvert_exporter": "python",
   "pygments_lexer": "ipython3",
   "version": "3.7.3"
  }
 },
 "nbformat": 4,
 "nbformat_minor": 4
}
