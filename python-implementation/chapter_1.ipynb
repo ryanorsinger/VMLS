{
 "cells": [
  {
   "cell_type": "code",
   "execution_count": 1,
   "metadata": {},
   "outputs": [],
   "source": [
    "import numpy as np"
   ]
  },
  {
   "cell_type": "markdown",
   "metadata": {},
   "source": [
    "# Vectors\n",
    "- A Vector is an ordered finite list of numbers\n",
    "- Elements of a vector can be called entries, coefficients, or components \n",
    "- The size (called the dimension or length) is the number of elements the vector contains.\n",
    "- A vector of size $n$ is called an n-vector\n",
    "- A 1-vector is considered to be the same as the number itself"
   ]
  },
  {
   "cell_type": "code",
   "execution_count": 2,
   "metadata": {},
   "outputs": [
    {
     "data": {
      "text/plain": [
       "3"
      ]
     },
     "execution_count": 2,
     "metadata": {},
     "output_type": "execute_result"
    }
   ],
   "source": [
    "# A vector of size n is called an n-vector\n",
    "# x is a 3-vector\n",
    "x = np.array([1, 2, 3])\n",
    "x.size"
   ]
  },
  {
   "cell_type": "markdown",
   "metadata": {},
   "source": [
    "### Built-in Python vs. numpy tools\n",
    "- `len` is built into Python (for iterables) returns the size of the 1st dimension.\n",
    "- The `.size` property from numpy arrays works the same way, only on 1 dimensional vectors\n",
    "- We'll use `.size` since it's accurate"
   ]
  },
  {
   "cell_type": "code",
   "execution_count": 3,
   "metadata": {},
   "outputs": [
    {
     "data": {
      "text/plain": [
       "True"
      ]
     },
     "execution_count": 3,
     "metadata": {},
     "output_type": "execute_result"
    }
   ],
   "source": [
    "x = np.array([1, 2, 3])\n",
    "len(x) == x.size"
   ]
  },
  {
   "cell_type": "markdown",
   "metadata": {},
   "source": [
    "- The numpy `.size` propery is a mathematically accurate \n",
    "- Numpy's `.size` property == the *the total number of elements in the vector.*\n",
    "- For this reason, use `.size` from here on out :)"
   ]
  },
  {
   "cell_type": "code",
   "execution_count": 4,
   "metadata": {},
   "outputs": [
    {
     "name": "stdout",
     "output_type": "stream",
     "text": [
      "len(y) is 3\n",
      "y.size is 9\n"
     ]
    },
    {
     "data": {
      "text/plain": [
       "array([[1, 2, 3],\n",
       "       [1, 2, 3],\n",
       "       [1, 2, 3]])"
      ]
     },
     "execution_count": 4,
     "metadata": {},
     "output_type": "execute_result"
    }
   ],
   "source": [
    "# For vectors with more than 1 dimension, .size is mathematically accurate\n",
    "y = np.array([x, x, x])\n",
    "print(\"len(y) is\", len(y))\n",
    "print(\"y.size is\", y.size)\n",
    "y"
   ]
  },
  {
   "cell_type": "markdown",
   "metadata": {},
   "source": [
    "### A 1-vector containing only one number is the same as the number itself\n",
    "- The 1 vector containing a scalar is the same as that scalar"
   ]
  },
  {
   "cell_type": "code",
   "execution_count": 5,
   "metadata": {},
   "outputs": [],
   "source": [
    "# A 1-vector is considered to be the same as the number itself\n",
    "assert [1.3] != 1.3, \"Python built-in lists are not proper vectors\"\n",
    "assert np.array(1.3) == 1.3, \"A numpy array of a single number is the same as that number\""
   ]
  },
  {
   "cell_type": "markdown",
   "metadata": {},
   "source": [
    "### Vector Equality\n",
    "- Two vectors are equal if they have the same size and all the entries are the same"
   ]
  },
  {
   "cell_type": "code",
   "execution_count": 6,
   "metadata": {},
   "outputs": [
    {
     "data": {
      "text/plain": [
       "True"
      ]
     },
     "execution_count": 6,
     "metadata": {},
     "output_type": "execute_result"
    }
   ],
   "source": [
    "a = np.array([1, 2, 3])\n",
    "b = np.array([1, 2, 3])\n",
    "\n",
    "# array_equal returns True/False if the arrays are completely equal\n",
    "np.array_equal(a, b)"
   ]
  },
  {
   "cell_type": "markdown",
   "metadata": {},
   "source": [
    "### Use `np.array_equals` to get the equality of vectors\n",
    "- `np.equal` and Python's `==` operator work similarly\n",
    "- They return an array of booleans..\n",
    "- But this is not the same as a single boolean\n",
    "- Favor `np.array_equal` to get a single boolean answer for comparing vectors"
   ]
  },
  {
   "cell_type": "code",
   "execution_count": 7,
   "metadata": {},
   "outputs": [
    {
     "data": {
      "text/plain": [
       "array([False,  True, False])"
      ]
     },
     "execution_count": 7,
     "metadata": {},
     "output_type": "execute_result"
    }
   ],
   "source": [
    "# np.equal and the python == operator work similarly\n",
    "# they compare each element\n",
    "# But they're not\n",
    "np.equal(np.array([2, 1, 0]), np.array([5, 1, 2]))"
   ]
  },
  {
   "cell_type": "markdown",
   "metadata": {},
   "source": [
    "### Block or stacked vectors\n",
    "- Concatenating or stacking vectors puts them end to end, like boxcars\n",
    "- Consider $c$ = [$a$, $b$]\n",
    "- The size of $c$ is the sum of the sizes of $a$ and $b$\n",
    "- If $a$ is $[1, 2]$ and $b$ is $[3, 4]$\n",
    "- Then $c$ is the vector $[1, 2, 3, 4]$"
   ]
  },
  {
   "cell_type": "code",
   "execution_count": 8,
   "metadata": {},
   "outputs": [
    {
     "data": {
      "text/plain": [
       "array([1, 2, 3, 4])"
      ]
     },
     "execution_count": 8,
     "metadata": {},
     "output_type": "execute_result"
    }
   ],
   "source": [
    "# Create clock or stacked vectors with np.concatenate\n",
    "# https://numpy.org/doc/stable/reference/generated/numpy.concatenate.html?highlight=concatenate#numpy.concatenate\n",
    "a = np.array([1, 2])\n",
    "b = np.array([3, 4])\n",
    "c = np.concatenate((a, b))\n",
    "\n",
    "assert c.size == a.size + b.size\n",
    "c"
   ]
  },
  {
   "cell_type": "markdown",
   "metadata": {},
   "source": [
    "### Subvectors\n",
    "- Consider $c = [a, b]$ where $a=[1, 2]$ and $b=[3, 4]$\n",
    "- $a$ and $b$ are subvectors, or slices, of $c$\n",
    "- $[ 2, 3]$ is also a subvector of $c$\n",
    "- Python's `in` operator is insufficient for checking if a subvector exists in a vector.\n",
    "- We'll use `np.isin` function"
   ]
  },
  {
   "cell_type": "code",
   "execution_count": 9,
   "metadata": {},
   "outputs": [
    {
     "data": {
      "text/plain": [
       "array([ True,  True])"
      ]
     },
     "execution_count": 9,
     "metadata": {},
     "output_type": "execute_result"
    }
   ],
   "source": [
    "# [1, 2] is a subvector of [1, 2, 3, 4]\n",
    "np.isin(a, c)"
   ]
  },
  {
   "cell_type": "code",
   "execution_count": 10,
   "metadata": {},
   "outputs": [
    {
     "data": {
      "text/plain": [
       "array([ True,  True])"
      ]
     },
     "execution_count": 10,
     "metadata": {},
     "output_type": "execute_result"
    }
   ],
   "source": [
    "# [3, 4] is a subvector of [1, 2, 3, 4]\n",
    "np.isin(b, c)"
   ]
  },
  {
   "cell_type": "code",
   "execution_count": 11,
   "metadata": {},
   "outputs": [
    {
     "data": {
      "text/plain": [
       "array(True)"
      ]
     },
     "execution_count": 11,
     "metadata": {},
     "output_type": "execute_result"
    }
   ],
   "source": [
    "# 1-vector containing 3 is also a subvector of [1, 2, 3, 4]\n",
    "np.isin(np.array(3), c)"
   ]
  },
  {
   "cell_type": "code",
   "execution_count": 12,
   "metadata": {},
   "outputs": [
    {
     "data": {
      "text/plain": [
       "array([ True,  True])"
      ]
     },
     "execution_count": 12,
     "metadata": {},
     "output_type": "execute_result"
    }
   ],
   "source": [
    "# [2,3]  is also a subvector of [1, 2, 3, 4]\n",
    "np.isin(np.array([2, 3]), c)"
   ]
  },
  {
   "cell_type": "code",
   "execution_count": null,
   "metadata": {},
   "outputs": [],
   "source": []
  },
  {
   "cell_type": "code",
   "execution_count": null,
   "metadata": {},
   "outputs": [],
   "source": []
  }
 ],
 "metadata": {
  "kernelspec": {
   "display_name": "Python 3",
   "language": "python",
   "name": "python3"
  },
  "language_info": {
   "codemirror_mode": {
    "name": "ipython",
    "version": 3
   },
   "file_extension": ".py",
   "mimetype": "text/x-python",
   "name": "python",
   "nbconvert_exporter": "python",
   "pygments_lexer": "ipython3",
   "version": "3.7.3"
  }
 },
 "nbformat": 4,
 "nbformat_minor": 4
}
